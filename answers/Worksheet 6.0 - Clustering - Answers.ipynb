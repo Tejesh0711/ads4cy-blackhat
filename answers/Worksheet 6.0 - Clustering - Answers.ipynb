{
 "cells": [
  {
   "cell_type": "markdown",
   "metadata": {},
   "source": [
    "<img src=\"../img/GTK_Logo_Social Icon.jpg\" width=175 align=\"right\" />\n",
    "\n",
    "\n",
    "# Worksheet 6.0 Clustering - Answers\n",
    "\n",
    "This worksheet covers concepts relating to Unsupervised Learning.  It should take no more than 20-30 minutes to complete.  Please raise your hand if you get stuck.  \n",
    "\n",
    "There are many ways to accomplish the tasks that you are presented with, however you will find that by using the techniques covered in class, the exercises should be relatively simple. \n",
    "\n",
    "## Import the Libraries\n",
    "For this exercise, we will be using:\n",
    "* Pandas (http://pandas.pydata.org/pandas-docs/stable/)\n",
    "* Numpy (https://docs.scipy.org/doc/numpy/reference/)\n",
    "* Matplotlib (http://matplotlib.org/api/pyplot_api.html)\n"
   ]
  },
  {
   "cell_type": "code",
   "execution_count": 1,
   "metadata": {
    "ExecuteTime": {
     "end_time": "2020-12-08T16:52:01.138820Z",
     "start_time": "2020-12-08T16:51:59.832634Z"
    },
    "run_control": {
     "frozen": false,
     "read_only": false
    }
   },
   "outputs": [
    {
     "name": "stderr",
     "output_type": "stream",
     "text": [
      "/Users/cgivre/anaconda3/lib/python3.7/site-packages/sklearn/utils/deprecation.py:143: FutureWarning: The sklearn.metrics.classification module is  deprecated in version 0.22 and will be removed in version 0.24. The corresponding classes / functions should instead be imported from sklearn.metrics. Anything that cannot be imported from sklearn.metrics is now part of the private API.\n",
      "  warnings.warn(message, FutureWarning)\n"
     ]
    }
   ],
   "source": [
    "import pandas as pd\n",
    "import numpy as np\n",
    "from sklearn.cluster import KMeans, MiniBatchKMeans, DBSCAN\n",
    "from sklearn.preprocessing import StandardScaler\n",
    "from yellowbrick.cluster import KElbowVisualizer, SilhouetteVisualizer\n",
    "import pandas as pd\n",
    "import matplotlib.pyplot as plt\n",
    "from matplotlib import style\n",
    "from scipy.spatial.distance import cdist\n",
    "style.use(\"ggplot\")\n",
    "%matplotlib inline"
   ]
  },
  {
   "cell_type": "markdown",
   "metadata": {},
   "source": [
    "# K-Means Clustering\n",
    "In this example notebook, you will see how to implement K-Means Clustering in Python using Scikit-Learn and Pandas. \n",
    "Adapted from https://pythonprogramming.net/flat-clustering-machine-learning-python-scikit-learn/\n",
    "\n",
    "## Step 1:  Get Data:\n",
    "The first step is to prepare or generate the data.  In this dataset, the observations only have two features, but K-Means can be used with any number of features.  Since this is an unsupervised example, it is not necessary to have a \"target\" column."
   ]
  },
  {
   "cell_type": "code",
   "execution_count": 2,
   "metadata": {
    "ExecuteTime": {
     "end_time": "2020-12-08T16:52:01.329790Z",
     "start_time": "2020-12-08T16:52:01.319553Z"
    },
    "run_control": {
     "frozen": false,
     "read_only": false
    }
   },
   "outputs": [
    {
     "name": "stdout",
     "output_type": "stream",
     "text": [
      "     x     y\n",
      "0  1.0   2.0\n",
      "1  5.0   8.0\n",
      "2  1.5   1.8\n",
      "3  8.0   8.0\n",
      "4  1.0   0.6\n",
      "5  9.0  11.0\n"
     ]
    }
   ],
   "source": [
    "data = pd.DataFrame([[1, 2],\n",
    "              [5, 8],\n",
    "              [1.5, 1.8],\n",
    "              [8, 8],\n",
    "              [1, 0.6],\n",
    "              [9, 11]], columns=['x','y'])\n",
    "print( data )"
   ]
  },
  {
   "cell_type": "markdown",
   "metadata": {},
   "source": [
    "## Step 2:  Build the Model:\n",
    "Much like the supervised models, you first create the model then call the `.fit()` method using your data source.  The model is now populated with both your centroids and labels.  These can be accessed via the `.cluster_centers_` and `labels_` properties respectively.\n",
    "\n",
    "You can view the complete documentation here: http://scikit-learn.org/stable/modules/generated/sklearn.cluster.KMeans.html\n",
    "\n",
    "K-Means also has a `.predict()` method which can be used to predict the label for an observation."
   ]
  },
  {
   "cell_type": "code",
   "execution_count": 3,
   "metadata": {
    "ExecuteTime": {
     "end_time": "2020-09-30T09:01:21.067099Z",
     "start_time": "2020-09-30T09:01:21.043755Z"
    },
    "run_control": {
     "frozen": false,
     "read_only": false
    }
   },
   "outputs": [
    {
     "name": "stdout",
     "output_type": "stream",
     "text": [
      "[[7.33333333 9.        ]\n",
      " [1.16666667 1.46666667]]\n",
      "[1 0 1 0 1 0]\n"
     ]
    }
   ],
   "source": [
    "kmeans = KMeans(n_clusters=2).fit(data)\n",
    "\n",
    "centroids = kmeans.cluster_centers_\n",
    "labels = kmeans.labels_\n",
    "\n",
    "print(centroids)\n",
    "print(labels)"
   ]
  },
  {
   "cell_type": "code",
   "execution_count": 4,
   "metadata": {
    "ExecuteTime": {
     "end_time": "2020-09-30T09:01:21.589095Z",
     "start_time": "2020-09-30T09:01:21.581552Z"
    },
    "run_control": {
     "frozen": false,
     "read_only": false
    }
   },
   "outputs": [
    {
     "name": "stdout",
     "output_type": "stream",
     "text": [
      "   0  1\n",
      "0  4  2\n"
     ]
    }
   ],
   "source": [
    "test = pd.DataFrame([[4,2]])\n",
    "\n",
    "kmeans.predict(test)\n",
    "print(test)"
   ]
  },
  {
   "cell_type": "markdown",
   "metadata": {},
   "source": [
    "# Visualizing the Clusters\n",
    "The code below visualizes the clusters.  "
   ]
  },
  {
   "cell_type": "code",
   "execution_count": 5,
   "metadata": {
    "ExecuteTime": {
     "end_time": "2020-09-30T09:01:23.202209Z",
     "start_time": "2020-09-30T09:01:22.916301Z"
    },
    "run_control": {
     "frozen": false,
     "read_only": false
    }
   },
   "outputs": [
    {
     "data": {
      "image/png": "[encoded data removed]",
      "text/plain": [
       "<Figure size 432x288 with 1 Axes>"
      ]
     },
     "metadata": {
      "needs_background": "light"
     },
     "output_type": "display_data"
    }
   ],
   "source": [
    "data['labels'] = labels\n",
    "\n",
    "#plt.plot(data, colors[data['labels'], markersize = 10)\n",
    "\n",
    "group1 = data[data['labels']==1].plot( kind='scatter', x='x', y='y',  s=100, color='DarkGreen', label=\"Group 1\" )\n",
    "group2 = data[data['labels']==0].plot( kind='scatter', x='x', y='y', s=100,color='Brown', ax=group1, label=\"Group 2\" )\n",
    "group1.legend(loc='upper center', bbox_to_anchor=(0.5, 1.05),\n",
    "          ncol=3, fancybox=True, shadow=True)\n",
    "plt.scatter(centroids[:, 0],centroids[:, 1], marker = \"x\", s=150, linewidths = 5, zorder = 10)\n",
    "\n",
    "plt.show()"
   ]
  },
  {
   "cell_type": "markdown",
   "metadata": {},
   "source": [
    "# Clustering with Real Data\n",
    "Now that you've tried K-means on some generated data, let's try it on some real data and see what we can produce. As before the first step is to read in the data into a DataFrame.  \n",
    "\n",
    "We will be using this data later, but the dataset consists of approximately 6000 domains--5000 of which were generated by various botnets and 1000 are from the Alexa 1 Million.  The columns are:\n",
    "\n",
    "* `dsrc`:  The source of the domain\n",
    "* `domain`:  The actual domain\n",
    "* `length`:  The length of the domain\n",
    "* `dicts`:  Percentage containing dictionary words\n",
    "* `entropy`:  The entropy of the domain\n",
    "* `numbers`:  The number of digits in the domain\n",
    "* `ngram`:  Different n-grams which appear in the domain (?)"
   ]
  },
  {
   "cell_type": "code",
   "execution_count": 3,
   "metadata": {
    "ExecuteTime": {
     "end_time": "2020-12-08T16:52:08.832702Z",
     "start_time": "2020-12-08T16:52:08.742125Z"
    },
    "run_control": {
     "frozen": false,
     "read_only": false
    }
   },
   "outputs": [
    {
     "data": {
      "text/html": [
       "<div>\n",
       "<style scoped>\n",
       "    .dataframe tbody tr th:only-of-type {\n",
       "        vertical-align: middle;\n",
       "    }\n",
       "\n",
       "    .dataframe tbody tr th {\n",
       "        vertical-align: top;\n",
       "    }\n",
       "\n",
       "    .dataframe thead th {\n",
       "        text-align: right;\n",
       "    }\n",
       "</style>\n",
       "<table border=\"1\" class=\"dataframe\">\n",
       "  <thead>\n",
       "    <tr style=\"text-align: right;\">\n",
       "      <th></th>\n",
       "      <th>dsrc</th>\n",
       "      <th>domain</th>\n",
       "      <th>length</th>\n",
       "      <th>dicts</th>\n",
       "      <th>entropy</th>\n",
       "      <th>numbers</th>\n",
       "      <th>ngram</th>\n",
       "    </tr>\n",
       "  </thead>\n",
       "  <tbody>\n",
       "    <tr>\n",
       "      <th>44049</th>\n",
       "      <td>alexa</td>\n",
       "      <td>punishtube</td>\n",
       "      <td>10</td>\n",
       "      <td>1.000000</td>\n",
       "      <td>3.121928</td>\n",
       "      <td>0</td>\n",
       "      <td>9.895349</td>\n",
       "    </tr>\n",
       "    <tr>\n",
       "      <th>9738</th>\n",
       "      <td>cryptolocker</td>\n",
       "      <td>yqqpxkpaajdr</td>\n",
       "      <td>12</td>\n",
       "      <td>0.000000</td>\n",
       "      <td>3.084963</td>\n",
       "      <td>0</td>\n",
       "      <td>0.477121</td>\n",
       "    </tr>\n",
       "    <tr>\n",
       "      <th>16308</th>\n",
       "      <td>gameoverdga</td>\n",
       "      <td>b35r09w0zsbr182h5lv1j9w1tx</td>\n",
       "      <td>26</td>\n",
       "      <td>0.000000</td>\n",
       "      <td>4.056021</td>\n",
       "      <td>12</td>\n",
       "      <td>0.000000</td>\n",
       "    </tr>\n",
       "    <tr>\n",
       "      <th>2690</th>\n",
       "      <td>cryptolocker</td>\n",
       "      <td>nrytjbfubmmca</td>\n",
       "      <td>13</td>\n",
       "      <td>0.538462</td>\n",
       "      <td>3.392747</td>\n",
       "      <td>0</td>\n",
       "      <td>0.602060</td>\n",
       "    </tr>\n",
       "    <tr>\n",
       "      <th>8518</th>\n",
       "      <td>cryptolocker</td>\n",
       "      <td>ncgjtlcyochxhuo</td>\n",
       "      <td>15</td>\n",
       "      <td>0.466667</td>\n",
       "      <td>3.323231</td>\n",
       "      <td>0</td>\n",
       "      <td>0.903090</td>\n",
       "    </tr>\n",
       "  </tbody>\n",
       "</table>\n",
       "</div>"
      ],
      "text/plain": [
       "               dsrc                      domain  length     dicts   entropy  \\\n",
       "44049         alexa                  punishtube      10  1.000000  3.121928   \n",
       "9738   cryptolocker                yqqpxkpaajdr      12  0.000000  3.084963   \n",
       "16308   gameoverdga  b35r09w0zsbr182h5lv1j9w1tx      26  0.000000  4.056021   \n",
       "2690   cryptolocker               nrytjbfubmmca      13  0.538462  3.392747   \n",
       "8518   cryptolocker             ncgjtlcyochxhuo      15  0.466667  3.323231   \n",
       "\n",
       "       numbers     ngram  \n",
       "44049        0  9.895349  \n",
       "9738         0  0.477121  \n",
       "16308       12  0.000000  \n",
       "2690         0  0.602060  \n",
       "8518         0  0.903090  "
      ]
     },
     "execution_count": 3,
     "metadata": {},
     "output_type": "execute_result"
    }
   ],
   "source": [
    "data = pd.read_csv('../data/dga-full.csv')\n",
    "data.sample(5)"
   ]
  },
  {
   "cell_type": "code",
   "execution_count": 4,
   "metadata": {
    "ExecuteTime": {
     "end_time": "2020-12-08T16:52:31.825639Z",
     "start_time": "2020-12-08T16:52:31.814487Z"
    }
   },
   "outputs": [
    {
     "data": {
      "text/plain": [
       "necurs          10000\n",
       "cryptolocker    10000\n",
       "gameoverdga     10000\n",
       "alexa           10000\n",
       "nivdort          9978\n",
       "bamital          2500\n",
       "Name: dsrc, dtype: int64"
      ]
     },
     "execution_count": 4,
     "metadata": {},
     "output_type": "execute_result"
    }
   ],
   "source": [
    "data['dsrc'].value_counts()"
   ]
  },
  {
   "cell_type": "markdown",
   "metadata": {},
   "source": [
    "## Scaling the Data\n",
    "Since clustering relies on measuring distances between objects it is important that all data points be on the same scale.  There are various methods for doing this, which are beyond the scope of this class, however, for this example, we will use scikit-learn's `StandardScaler` to accomplish this.  (http://scikit-learn.org/stable/modules/generated/sklearn.preprocessing.StandardScaler.html)\n",
    "\n",
    "The StandardScaler transforms each column by:\n",
    "* Subtracting from the element in each row the mean for each feature (column) and then taking this value and\n",
    "* Dividing by that feature's (column's) standard deviation.\n",
    "\n",
    "Scikit-learn has a transformer interface which is very similar to the other scikit-learn interfaces.  The basic steps are:\n",
    "1.  Create the Scaler object\n",
    "2.  Using the feature matrix, call the `.fit()` method to \"train\" the Scaler\n",
    "3.  Use the `.transform()` method to scale the data.\n",
    "\n",
    "**NOTE**: When using a Scaler, it is important to train the scaler on your data, and use this trained scalers on any future predictions. "
   ]
  },
  {
   "cell_type": "code",
   "execution_count": 5,
   "metadata": {
    "ExecuteTime": {
     "end_time": "2020-12-08T16:52:48.739551Z",
     "start_time": "2020-12-08T16:52:48.736440Z"
    },
    "run_control": {
     "frozen": false,
     "read_only": false
    }
   },
   "outputs": [],
   "source": [
    "feature_columns = ['length', 'dicts','entropy','numbers','ngram']\n",
    "scaled_feature_columns = ['scaled_length', 'scaled_dicts','scaled_entropy','scaled_numbers','scaled_ngram']"
   ]
  },
  {
   "cell_type": "code",
   "execution_count": 6,
   "metadata": {
    "ExecuteTime": {
     "end_time": "2020-12-08T16:52:50.103458Z",
     "start_time": "2020-12-08T16:52:50.084724Z"
    },
    "run_control": {
     "frozen": false,
     "read_only": false
    }
   },
   "outputs": [],
   "source": [
    "#Step 1:  Create the scaler\n",
    "scaler = StandardScaler()\n",
    "\n",
    "#Steps 2 & 3:  Fit the scaler and transform this data\n",
    "scaled_df = scaler.fit_transform(data[feature_columns])\n",
    "\n",
    "#Put the scaled data into a dataframe\n",
    "scaled_df = pd.DataFrame(scaled_df, columns=scaled_feature_columns)"
   ]
  },
  {
   "cell_type": "markdown",
   "metadata": {},
   "source": [
    "Take a look at the data and you'll see that the data is now all scaled consistently. "
   ]
  },
  {
   "cell_type": "code",
   "execution_count": 7,
   "metadata": {
    "ExecuteTime": {
     "end_time": "2020-12-08T16:52:51.357178Z",
     "start_time": "2020-12-08T16:52:51.345209Z"
    },
    "run_control": {
     "frozen": false,
     "read_only": false
    },
    "scrolled": true
   },
   "outputs": [
    {
     "data": {
      "text/html": [
       "<div>\n",
       "<style scoped>\n",
       "    .dataframe tbody tr th:only-of-type {\n",
       "        vertical-align: middle;\n",
       "    }\n",
       "\n",
       "    .dataframe tbody tr th {\n",
       "        vertical-align: top;\n",
       "    }\n",
       "\n",
       "    .dataframe thead th {\n",
       "        text-align: right;\n",
       "    }\n",
       "</style>\n",
       "<table border=\"1\" class=\"dataframe\">\n",
       "  <thead>\n",
       "    <tr style=\"text-align: right;\">\n",
       "      <th></th>\n",
       "      <th>scaled_length</th>\n",
       "      <th>scaled_dicts</th>\n",
       "      <th>scaled_entropy</th>\n",
       "      <th>scaled_numbers</th>\n",
       "      <th>scaled_ngram</th>\n",
       "    </tr>\n",
       "  </thead>\n",
       "  <tbody>\n",
       "    <tr>\n",
       "      <th>52403</th>\n",
       "      <td>-0.539668</td>\n",
       "      <td>1.144799</td>\n",
       "      <td>-1.178367</td>\n",
       "      <td>-0.498385</td>\n",
       "      <td>1.300488</td>\n",
       "    </tr>\n",
       "    <tr>\n",
       "      <th>6715</th>\n",
       "      <td>-0.277145</td>\n",
       "      <td>0.298797</td>\n",
       "      <td>-0.356162</td>\n",
       "      <td>-0.498385</td>\n",
       "      <td>0.052663</td>\n",
       "    </tr>\n",
       "    <tr>\n",
       "      <th>9387</th>\n",
       "      <td>-0.145884</td>\n",
       "      <td>-0.426347</td>\n",
       "      <td>-0.088757</td>\n",
       "      <td>-0.498385</td>\n",
       "      <td>-0.699054</td>\n",
       "    </tr>\n",
       "    <tr>\n",
       "      <th>2860</th>\n",
       "      <td>-0.408407</td>\n",
       "      <td>0.457423</td>\n",
       "      <td>-0.256155</td>\n",
       "      <td>-0.498385</td>\n",
       "      <td>-0.811719</td>\n",
       "    </tr>\n",
       "    <tr>\n",
       "      <th>14672</th>\n",
       "      <td>1.429253</td>\n",
       "      <td>-1.287455</td>\n",
       "      <td>0.572674</td>\n",
       "      <td>1.020643</td>\n",
       "      <td>-0.811719</td>\n",
       "    </tr>\n",
       "    <tr>\n",
       "      <th>15752</th>\n",
       "      <td>1.297992</td>\n",
       "      <td>-1.054805</td>\n",
       "      <td>1.000836</td>\n",
       "      <td>1.210521</td>\n",
       "      <td>-0.434267</td>\n",
       "    </tr>\n",
       "    <tr>\n",
       "      <th>41001</th>\n",
       "      <td>-0.670930</td>\n",
       "      <td>1.144799</td>\n",
       "      <td>-0.537386</td>\n",
       "      <td>-0.498385</td>\n",
       "      <td>0.272061</td>\n",
       "    </tr>\n",
       "    <tr>\n",
       "      <th>3217</th>\n",
       "      <td>-0.014622</td>\n",
       "      <td>0.044997</td>\n",
       "      <td>0.931658</td>\n",
       "      <td>-0.498385</td>\n",
       "      <td>-0.520484</td>\n",
       "    </tr>\n",
       "    <tr>\n",
       "      <th>8790</th>\n",
       "      <td>-0.277145</td>\n",
       "      <td>-0.547204</td>\n",
       "      <td>0.540150</td>\n",
       "      <td>-0.498385</td>\n",
       "      <td>-0.722434</td>\n",
       "    </tr>\n",
       "    <tr>\n",
       "      <th>14471</th>\n",
       "      <td>1.429253</td>\n",
       "      <td>-0.652954</td>\n",
       "      <td>1.999749</td>\n",
       "      <td>0.640886</td>\n",
       "      <td>-0.464152</td>\n",
       "    </tr>\n",
       "  </tbody>\n",
       "</table>\n",
       "</div>"
      ],
      "text/plain": [
       "       scaled_length  scaled_dicts  scaled_entropy  scaled_numbers  \\\n",
       "52403      -0.539668      1.144799       -1.178367       -0.498385   \n",
       "6715       -0.277145      0.298797       -0.356162       -0.498385   \n",
       "9387       -0.145884     -0.426347       -0.088757       -0.498385   \n",
       "2860       -0.408407      0.457423       -0.256155       -0.498385   \n",
       "14672       1.429253     -1.287455        0.572674        1.020643   \n",
       "15752       1.297992     -1.054805        1.000836        1.210521   \n",
       "41001      -0.670930      1.144799       -0.537386       -0.498385   \n",
       "3217       -0.014622      0.044997        0.931658       -0.498385   \n",
       "8790       -0.277145     -0.547204        0.540150       -0.498385   \n",
       "14471       1.429253     -0.652954        1.999749        0.640886   \n",
       "\n",
       "       scaled_ngram  \n",
       "52403      1.300488  \n",
       "6715       0.052663  \n",
       "9387      -0.699054  \n",
       "2860      -0.811719  \n",
       "14672     -0.811719  \n",
       "15752     -0.434267  \n",
       "41001      0.272061  \n",
       "3217      -0.520484  \n",
       "8790      -0.722434  \n",
       "14471     -0.464152  "
      ]
     },
     "execution_count": 7,
     "metadata": {},
     "output_type": "execute_result"
    }
   ],
   "source": [
    "scaled_df.sample(10)"
   ]
  },
  {
   "cell_type": "markdown",
   "metadata": {},
   "source": [
    "Finally for convenience, we're going to merge the scaled data with the non-scaled data.  "
   ]
  },
  {
   "cell_type": "code",
   "execution_count": 8,
   "metadata": {
    "ExecuteTime": {
     "end_time": "2020-12-08T16:53:01.027618Z",
     "start_time": "2020-12-08T16:53:01.020649Z"
    },
    "run_control": {
     "frozen": false,
     "read_only": false
    }
   },
   "outputs": [],
   "source": [
    "final_data = pd.merge( data, scaled_df, left_index=True, right_index=True)"
   ]
  },
  {
   "cell_type": "code",
   "execution_count": 9,
   "metadata": {
    "ExecuteTime": {
     "end_time": "2020-12-08T16:53:01.471985Z",
     "start_time": "2020-12-08T16:53:01.450300Z"
    },
    "run_control": {
     "frozen": false,
     "read_only": false
    }
   },
   "outputs": [
    {
     "data": {
      "text/html": [
       "<div>\n",
       "<style scoped>\n",
       "    .dataframe tbody tr th:only-of-type {\n",
       "        vertical-align: middle;\n",
       "    }\n",
       "\n",
       "    .dataframe tbody tr th {\n",
       "        vertical-align: top;\n",
       "    }\n",
       "\n",
       "    .dataframe thead th {\n",
       "        text-align: right;\n",
       "    }\n",
       "</style>\n",
       "<table border=\"1\" class=\"dataframe\">\n",
       "  <thead>\n",
       "    <tr style=\"text-align: right;\">\n",
       "      <th></th>\n",
       "      <th>dsrc</th>\n",
       "      <th>domain</th>\n",
       "      <th>length</th>\n",
       "      <th>dicts</th>\n",
       "      <th>entropy</th>\n",
       "      <th>numbers</th>\n",
       "      <th>ngram</th>\n",
       "      <th>scaled_length</th>\n",
       "      <th>scaled_dicts</th>\n",
       "      <th>scaled_entropy</th>\n",
       "      <th>scaled_numbers</th>\n",
       "      <th>scaled_ngram</th>\n",
       "    </tr>\n",
       "  </thead>\n",
       "  <tbody>\n",
       "    <tr>\n",
       "      <th>45875</th>\n",
       "      <td>alexa</td>\n",
       "      <td>fernsehserien</td>\n",
       "      <td>13</td>\n",
       "      <td>0.923077</td>\n",
       "      <td>2.623517</td>\n",
       "      <td>0</td>\n",
       "      <td>12.739099</td>\n",
       "      <td>-0.277145</td>\n",
       "      <td>0.933298</td>\n",
       "      <td>-1.052140</td>\n",
       "      <td>-0.498385</td>\n",
       "      <td>1.572178</td>\n",
       "    </tr>\n",
       "    <tr>\n",
       "      <th>4114</th>\n",
       "      <td>cryptolocker</td>\n",
       "      <td>eoowndpjoknkwfo</td>\n",
       "      <td>15</td>\n",
       "      <td>0.333333</td>\n",
       "      <td>2.973557</td>\n",
       "      <td>0</td>\n",
       "      <td>2.334454</td>\n",
       "      <td>-0.014622</td>\n",
       "      <td>-0.688204</td>\n",
       "      <td>-0.448327</td>\n",
       "      <td>-0.498385</td>\n",
       "      <td>-0.374867</td>\n",
       "    </tr>\n",
       "    <tr>\n",
       "      <th>10742</th>\n",
       "      <td>cryptolocker</td>\n",
       "      <td>vbfwhnqhihvp</td>\n",
       "      <td>12</td>\n",
       "      <td>0.250000</td>\n",
       "      <td>3.022055</td>\n",
       "      <td>0</td>\n",
       "      <td>0.000000</td>\n",
       "      <td>-0.408407</td>\n",
       "      <td>-0.917330</td>\n",
       "      <td>-0.364669</td>\n",
       "      <td>-0.498385</td>\n",
       "      <td>-0.811719</td>\n",
       "    </tr>\n",
       "    <tr>\n",
       "      <th>34963</th>\n",
       "      <td>nivdort</td>\n",
       "      <td>frontheight</td>\n",
       "      <td>11</td>\n",
       "      <td>1.000000</td>\n",
       "      <td>3.095795</td>\n",
       "      <td>0</td>\n",
       "      <td>17.923790</td>\n",
       "      <td>-0.539668</td>\n",
       "      <td>1.144799</td>\n",
       "      <td>-0.237469</td>\n",
       "      <td>-0.498385</td>\n",
       "      <td>2.542401</td>\n",
       "    </tr>\n",
       "    <tr>\n",
       "      <th>8284</th>\n",
       "      <td>cryptolocker</td>\n",
       "      <td>cnwyxppxyfgpthn</td>\n",
       "      <td>15</td>\n",
       "      <td>0.000000</td>\n",
       "      <td>3.189898</td>\n",
       "      <td>0</td>\n",
       "      <td>0.602060</td>\n",
       "      <td>-0.014622</td>\n",
       "      <td>-1.604706</td>\n",
       "      <td>-0.075143</td>\n",
       "      <td>-0.498385</td>\n",
       "      <td>-0.699054</td>\n",
       "    </tr>\n",
       "  </tbody>\n",
       "</table>\n",
       "</div>"
      ],
      "text/plain": [
       "               dsrc           domain  length     dicts   entropy  numbers  \\\n",
       "45875         alexa    fernsehserien      13  0.923077  2.623517        0   \n",
       "4114   cryptolocker  eoowndpjoknkwfo      15  0.333333  2.973557        0   \n",
       "10742  cryptolocker     vbfwhnqhihvp      12  0.250000  3.022055        0   \n",
       "34963       nivdort      frontheight      11  1.000000  3.095795        0   \n",
       "8284   cryptolocker  cnwyxppxyfgpthn      15  0.000000  3.189898        0   \n",
       "\n",
       "           ngram  scaled_length  scaled_dicts  scaled_entropy  scaled_numbers  \\\n",
       "45875  12.739099      -0.277145      0.933298       -1.052140       -0.498385   \n",
       "4114    2.334454      -0.014622     -0.688204       -0.448327       -0.498385   \n",
       "10742   0.000000      -0.408407     -0.917330       -0.364669       -0.498385   \n",
       "34963  17.923790      -0.539668      1.144799       -0.237469       -0.498385   \n",
       "8284    0.602060      -0.014622     -1.604706       -0.075143       -0.498385   \n",
       "\n",
       "       scaled_ngram  \n",
       "45875      1.572178  \n",
       "4114      -0.374867  \n",
       "10742     -0.811719  \n",
       "34963      2.542401  \n",
       "8284      -0.699054  "
      ]
     },
     "execution_count": 9,
     "metadata": {},
     "output_type": "execute_result"
    }
   ],
   "source": [
    "final_data.sample(5)"
   ]
  },
  {
   "cell_type": "markdown",
   "metadata": {},
   "source": [
    "### Your Turn!\n",
    "Now that we have data that is suitable (maybe) for clustering, in the section below, perform K-Means clustering on this data set.  Initially, start out with 2 clusters and assign the `cluster id` as a column in your DataFrame.\n",
    "\n",
    "Then do a `value_counts()` on the `dsrc` column for each cluster to see how the model divided the data.  Try various values for `k` to see how it performed.\n",
    "\n",
    "Remember to use the **scaled features** for your clustering.  "
   ]
  },
  {
   "cell_type": "code",
   "execution_count": 13,
   "metadata": {
    "ExecuteTime": {
     "end_time": "2020-12-08T16:53:30.419448Z",
     "start_time": "2020-12-08T16:53:30.248709Z"
    },
    "run_control": {
     "frozen": false,
     "read_only": false
    }
   },
   "outputs": [
    {
     "name": "stdout",
     "output_type": "stream",
     "text": [
      "[[ 1.56881289 -1.17164685  1.22504864  1.54250391 -0.63395743]\n",
      " [-0.49770893  0.37170723 -0.38864906 -0.48936236  0.20112422]]\n",
      "[0 0 0 ... 1 1 1]\n"
     ]
    }
   ],
   "source": [
    "## Your code here...\n",
    "\n",
    "kmeans = KMeans(n_clusters=2).fit(final_data[scaled_feature_columns])\n",
    "\n",
    "centroids = kmeans.cluster_centers_\n",
    "labels = kmeans.labels_\n",
    "\n",
    "print(centroids)\n",
    "print(labels)"
   ]
  },
  {
   "cell_type": "code",
   "execution_count": 14,
   "metadata": {
    "ExecuteTime": {
     "end_time": "2020-12-08T16:53:30.689349Z",
     "start_time": "2020-12-08T16:53:30.677427Z"
    },
    "run_control": {
     "frozen": false,
     "read_only": false
    }
   },
   "outputs": [
    {
     "data": {
      "text/plain": [
       "necurs          10000\n",
       "cryptolocker    10000\n",
       "gameoverdga     10000\n",
       "alexa           10000\n",
       "nivdort          9978\n",
       "bamital          2500\n",
       "Name: dsrc, dtype: int64"
      ]
     },
     "execution_count": 14,
     "metadata": {},
     "output_type": "execute_result"
    }
   ],
   "source": [
    "final_data['dsrc'].value_counts()"
   ]
  },
  {
   "cell_type": "code",
   "execution_count": 15,
   "metadata": {
    "ExecuteTime": {
     "end_time": "2020-12-08T16:53:31.218339Z",
     "start_time": "2020-12-08T16:53:31.214380Z"
    },
    "run_control": {
     "frozen": false,
     "read_only": false
    }
   },
   "outputs": [],
   "source": [
    "final_data['cluster_id'] = kmeans.labels_"
   ]
  },
  {
   "cell_type": "code",
   "execution_count": 16,
   "metadata": {
    "ExecuteTime": {
     "end_time": "2020-12-08T16:53:32.337938Z",
     "start_time": "2020-12-08T16:53:32.330628Z"
    },
    "run_control": {
     "frozen": false,
     "read_only": false
    }
   },
   "outputs": [
    {
     "data": {
      "text/plain": [
       "1    39842\n",
       "0    12636\n",
       "Name: cluster_id, dtype: int64"
      ]
     },
     "execution_count": 16,
     "metadata": {},
     "output_type": "execute_result"
    }
   ],
   "source": [
    "final_data['cluster_id'].value_counts()"
   ]
  },
  {
   "cell_type": "code",
   "execution_count": 17,
   "metadata": {
    "ExecuteTime": {
     "end_time": "2020-12-08T16:53:44.952596Z",
     "start_time": "2020-12-08T16:53:44.930667Z"
    },
    "run_control": {
     "frozen": false,
     "read_only": false
    }
   },
   "outputs": [
    {
     "data": {
      "text/plain": [
       "cryptolocker    10000\n",
       "alexa            9997\n",
       "nivdort          9978\n",
       "necurs           9860\n",
       "gameoverdga         7\n",
       "Name: dsrc, dtype: int64"
      ]
     },
     "execution_count": 17,
     "metadata": {},
     "output_type": "execute_result"
    }
   ],
   "source": [
    "final_data[final_data['cluster_id'] == 1]['dsrc'].value_counts()"
   ]
  },
  {
   "cell_type": "code",
   "execution_count": 24,
   "metadata": {
    "ExecuteTime": {
     "end_time": "2020-09-30T09:05:10.475503Z",
     "start_time": "2020-09-30T09:05:10.467069Z"
    }
   },
   "outputs": [
    {
     "data": {
      "text/plain": [
       "12137     vyhrysjqfnujcx\n",
       "10214     jeorpwrrldypfo\n",
       "8861        xpfiamqibywo\n",
       "3246     aqxesbvejqssleq\n",
       "4597       ugaeihhxfgcec\n",
       "Name: domain, dtype: object"
      ]
     },
     "execution_count": 24,
     "metadata": {},
     "output_type": "execute_result"
    }
   ],
   "source": [
    "final_data['domain'][final_data['dsrc'] == 'cryptolocker'].sample(5)"
   ]
  },
  {
   "cell_type": "code",
   "execution_count": 22,
   "metadata": {
    "ExecuteTime": {
     "end_time": "2020-09-30T09:04:38.245492Z",
     "start_time": "2020-09-30T09:04:38.235419Z"
    },
    "run_control": {
     "frozen": false,
     "read_only": false
    }
   },
   "outputs": [
    {
     "data": {
      "text/plain": [
       "391     dce6735a774f1e65ff4f922aa47076fe\n",
       "540     580c37c76fba54c23b4f7efd6ed7a7d0\n",
       "25      4a133624d27fc1990e0d1718cfb50ec5\n",
       "1264    f896bef76490cf27eb5ce9dcc8ff5dc7\n",
       "1714    e1be5068b1e32159e7fba02360d130d3\n",
       "1211    1efbd5c33168bc407e02760b40c7eed7\n",
       "1969    99404b0dc62222b4c1b0a40578213eb6\n",
       "1816    305e6f636225859f33e0b6703807ca0f\n",
       "1837    65b525dd8e4cd6c7c1fcbca153041b9c\n",
       "400     427b2f9201fb05a8fbad560576ce047b\n",
       "Name: domain, dtype: object"
      ]
     },
     "execution_count": 22,
     "metadata": {},
     "output_type": "execute_result"
    }
   ],
   "source": [
    "final_data[final_data['dsrc'] == \"bamital\"]['domain'].sample(10)"
   ]
  },
  {
   "cell_type": "code",
   "execution_count": 20,
   "metadata": {
    "ExecuteTime": {
     "end_time": "2020-07-30T14:50:37.781825Z",
     "start_time": "2020-07-30T14:50:37.771591Z"
    },
    "run_control": {
     "frozen": false,
     "read_only": false
    }
   },
   "outputs": [
    {
     "data": {
      "text/plain": [
       "42159      deadhand\n",
       "40008     songwhere\n",
       "34975      hangrain\n",
       "37684      thisname\n",
       "37080      jumpopen\n",
       "40963     pickcould\n",
       "41794     whichaunt\n",
       "42214     wishsince\n",
       "33581     watchfeed\n",
       "39329    sundayride\n",
       "Name: domain, dtype: object"
      ]
     },
     "execution_count": 20,
     "metadata": {},
     "output_type": "execute_result"
    }
   ],
   "source": [
    "final_data[final_data['dsrc'] == \"nivdort\"]['domain'].sample(10)"
   ]
  },
  {
   "cell_type": "code",
   "execution_count": 21,
   "metadata": {
    "ExecuteTime": {
     "end_time": "2020-07-30T14:50:38.535616Z",
     "start_time": "2020-07-30T14:50:38.524880Z"
    },
    "run_control": {
     "frozen": false,
     "read_only": false
    }
   },
   "outputs": [
    {
     "data": {
      "text/plain": [
       "22500       aqpoesogafvwyvlog\n",
       "22501                 iwxdakv\n",
       "22502            qwotyugasduc\n",
       "22503          fywbpebyvhgbov\n",
       "22504          lwmgjqvhpwiabx\n",
       "                 ...         \n",
       "32495                chdxyfak\n",
       "32496             upgclshimcu\n",
       "32497                ygtwdecs\n",
       "32498    jcbwowxlmhpawfuwfjyn\n",
       "32499                 vpvlyut\n",
       "Name: domain, Length: 9860, dtype: object"
      ]
     },
     "execution_count": 21,
     "metadata": {},
     "output_type": "execute_result"
    }
   ],
   "source": [
    "final_data[(final_data['cluster_id'] == 1) & (final_data['dsrc'] == 'necurs')]['domain']"
   ]
  },
  {
   "cell_type": "code",
   "execution_count": 22,
   "metadata": {
    "ExecuteTime": {
     "end_time": "2020-07-30T14:50:40.128862Z",
     "start_time": "2020-07-30T14:50:40.112892Z"
    },
    "run_control": {
     "frozen": false,
     "read_only": false
    }
   },
   "outputs": [
    {
     "data": {
      "text/html": [
       "<div>\n",
       "<style scoped>\n",
       "    .dataframe tbody tr th:only-of-type {\n",
       "        vertical-align: middle;\n",
       "    }\n",
       "\n",
       "    .dataframe tbody tr th {\n",
       "        vertical-align: top;\n",
       "    }\n",
       "\n",
       "    .dataframe thead th {\n",
       "        text-align: right;\n",
       "    }\n",
       "</style>\n",
       "<table border=\"1\" class=\"dataframe\">\n",
       "  <thead>\n",
       "    <tr style=\"text-align: right;\">\n",
       "      <th></th>\n",
       "      <th>dsrc</th>\n",
       "      <th>domain</th>\n",
       "      <th>length</th>\n",
       "      <th>dicts</th>\n",
       "      <th>entropy</th>\n",
       "      <th>numbers</th>\n",
       "      <th>ngram</th>\n",
       "      <th>scaled_length</th>\n",
       "      <th>scaled_dicts</th>\n",
       "      <th>scaled_entropy</th>\n",
       "      <th>scaled_numbers</th>\n",
       "      <th>scaled_ngram</th>\n",
       "      <th>cluster_id</th>\n",
       "    </tr>\n",
       "  </thead>\n",
       "  <tbody>\n",
       "    <tr>\n",
       "      <th>15754</th>\n",
       "      <td>gameoverdga</td>\n",
       "      <td>9eoyb91e1cbf6d0yv151w7lp7u</td>\n",
       "      <td>26</td>\n",
       "      <td>0.000000</td>\n",
       "      <td>4.008132</td>\n",
       "      <td>11</td>\n",
       "      <td>0.000000</td>\n",
       "      <td>1.429253</td>\n",
       "      <td>-1.604706</td>\n",
       "      <td>1.336295</td>\n",
       "      <td>1.590278</td>\n",
       "      <td>-0.811719</td>\n",
       "      <td>0</td>\n",
       "    </tr>\n",
       "    <tr>\n",
       "      <th>42197</th>\n",
       "      <td>nivdort</td>\n",
       "      <td>frontsince</td>\n",
       "      <td>10</td>\n",
       "      <td>1.000000</td>\n",
       "      <td>3.121928</td>\n",
       "      <td>0</td>\n",
       "      <td>13.903036</td>\n",
       "      <td>-0.670930</td>\n",
       "      <td>1.144799</td>\n",
       "      <td>-0.192390</td>\n",
       "      <td>-0.498385</td>\n",
       "      <td>1.789988</td>\n",
       "      <td>1</td>\n",
       "    </tr>\n",
       "    <tr>\n",
       "      <th>49084</th>\n",
       "      <td>alexa</td>\n",
       "      <td>identityguard</td>\n",
       "      <td>13</td>\n",
       "      <td>1.000000</td>\n",
       "      <td>3.238901</td>\n",
       "      <td>0</td>\n",
       "      <td>16.569908</td>\n",
       "      <td>-0.277145</td>\n",
       "      <td>1.144799</td>\n",
       "      <td>0.009387</td>\n",
       "      <td>-0.498385</td>\n",
       "      <td>2.289046</td>\n",
       "      <td>1</td>\n",
       "    </tr>\n",
       "    <tr>\n",
       "      <th>232</th>\n",
       "      <td>bamital</td>\n",
       "      <td>0da46c065088768316c51d6a98d816e9</td>\n",
       "      <td>32</td>\n",
       "      <td>0.000000</td>\n",
       "      <td>3.456748</td>\n",
       "      <td>24</td>\n",
       "      <td>0.000000</td>\n",
       "      <td>2.216822</td>\n",
       "      <td>-1.604706</td>\n",
       "      <td>0.385167</td>\n",
       "      <td>4.058697</td>\n",
       "      <td>-0.811719</td>\n",
       "      <td>0</td>\n",
       "    </tr>\n",
       "    <tr>\n",
       "      <th>26802</th>\n",
       "      <td>necurs</td>\n",
       "      <td>eiwerppfqgoksam</td>\n",
       "      <td>15</td>\n",
       "      <td>0.666667</td>\n",
       "      <td>3.640224</td>\n",
       "      <td>0</td>\n",
       "      <td>4.698275</td>\n",
       "      <td>-0.014622</td>\n",
       "      <td>0.228297</td>\n",
       "      <td>0.701661</td>\n",
       "      <td>-0.498385</td>\n",
       "      <td>0.067480</td>\n",
       "      <td>1</td>\n",
       "    </tr>\n",
       "  </tbody>\n",
       "</table>\n",
       "</div>"
      ],
      "text/plain": [
       "              dsrc                            domain  length     dicts  \\\n",
       "15754  gameoverdga        9eoyb91e1cbf6d0yv151w7lp7u      26  0.000000   \n",
       "42197      nivdort                        frontsince      10  1.000000   \n",
       "49084        alexa                     identityguard      13  1.000000   \n",
       "232        bamital  0da46c065088768316c51d6a98d816e9      32  0.000000   \n",
       "26802       necurs                   eiwerppfqgoksam      15  0.666667   \n",
       "\n",
       "        entropy  numbers      ngram  scaled_length  scaled_dicts  \\\n",
       "15754  4.008132       11   0.000000       1.429253     -1.604706   \n",
       "42197  3.121928        0  13.903036      -0.670930      1.144799   \n",
       "49084  3.238901        0  16.569908      -0.277145      1.144799   \n",
       "232    3.456748       24   0.000000       2.216822     -1.604706   \n",
       "26802  3.640224        0   4.698275      -0.014622      0.228297   \n",
       "\n",
       "       scaled_entropy  scaled_numbers  scaled_ngram  cluster_id  \n",
       "15754        1.336295        1.590278     -0.811719           0  \n",
       "42197       -0.192390       -0.498385      1.789988           1  \n",
       "49084        0.009387       -0.498385      2.289046           1  \n",
       "232          0.385167        4.058697     -0.811719           0  \n",
       "26802        0.701661       -0.498385      0.067480           1  "
      ]
     },
     "execution_count": 22,
     "metadata": {},
     "output_type": "execute_result"
    }
   ],
   "source": [
    "final_data.sample(5)"
   ]
  },
  {
   "cell_type": "markdown",
   "metadata": {},
   "source": [
    "## Food for thought:\n",
    "Now that you've done clustering with various numbers of clusters, it appears that the data acutally does break evenly into 2 clusters.  Take a look at the original data and see if you can come up with a reason why that is the case."
   ]
  },
  {
   "cell_type": "markdown",
   "metadata": {
    "collapsed": true
   },
   "source": [
    "## Visualizing Performance\n",
    "As we already know, it is difficult to measure the performance of clustering models since there usually is no known ground truth from which to evaluate your model.  However, there are two techniques which \n",
    "\n",
    "The K-Elbow Visualizer implements the “elbow” method of selecting the optimal number of clusters for K-means clustering. K-means is a simple unsupervised machine learning algorithm that groups data into a specified number (k) of clusters. Because the user must specify in advance what k to choose, the algorithm is somewhat naive – it assigns all members to k clusters even if that is not the right k for the dataset.\n",
    "\n",
    "The elbow method runs k-means clustering on the dataset for a range of values for k (say from 1-10) and then for each value of k computes an average score for all clusters. By default, the distortion_score is computed, the sum of square distances from each point to its assigned center. Other metrics can also be used such as the silhouette_score, the mean silhouette coefficient for all samples or the calinski_harabaz_score, which computes the ratio of dispersion between and within clusters.\n",
    "\n",
    "When these overall metrics for each model are plotted, it is possible to visually determine the best value for K. If the line chart looks like an arm, then the “elbow” (the point of inflection on the curve) is the best value of k. The “arm” can be either up or down, but if there is a strong inflection point, it is a good indication that the underlying model fits best at that point. (http://www.scikit-yb.org/en/latest/api/cluster/elbow.html)\n",
    "\n",
    "In python there is a module called `YellowBrick` which facilitates visualizing the K-Elbow score.  All of YellowBrick's visualizations follow essentually the same pattern:\n",
    "\n",
    "1.  Create the Visualizer Object\n",
    "2.  Call the `.fit()` method using the data\n",
    "3.  Call the `.poof()` method to render the visualization\n",
    "\n",
    "The snippet below demonstrates how to use the elbow method to visualize the clustering model's performance on this dataset.\n",
    "```python\n",
    "visualizer = KElbowVisualizer(KMeans(), k=(4,12))\n",
    "\n",
    "visualizer.fit( feature_matrix ) \n",
    "visualizer.poof()\n",
    "```\n",
    "\n",
    "### Your Turn!\n",
    "In the box below, create a visualization using the elbow method to see if there are any inflection points in the distortion score."
   ]
  },
  {
   "cell_type": "code",
   "execution_count": 23,
   "metadata": {
    "ExecuteTime": {
     "end_time": "2020-07-30T14:50:58.454328Z",
     "start_time": "2020-07-30T14:50:45.270908Z"
    },
    "run_control": {
     "frozen": false,
     "read_only": false
    }
   },
   "outputs": [
    {
     "data": {
      "image/png": "[encoded data removed]",
      "text/plain": [
       "<Figure size 432x288 with 2 Axes>"
      ]
     },
     "metadata": {},
     "output_type": "display_data"
    },
    {
     "data": {
      "text/plain": [
       "<matplotlib.axes._subplots.AxesSubplot at 0x7fc53a055110>"
      ]
     },
     "execution_count": 23,
     "metadata": {},
     "output_type": "execute_result"
    }
   ],
   "source": [
    "# Your code here...\n",
    "visualizer = KElbowVisualizer( KMeans(), k=(4,12), metric='silhouette')\n",
    "\n",
    "visualizer.fit(final_data[scaled_feature_columns].sample(10000))\n",
    "visualizer.show()"
   ]
  },
  {
   "cell_type": "markdown",
   "metadata": {},
   "source": [
    "## Another Way to Visualize Clustering Performance\n",
    "The Silhouette Coefficient is used when the ground-truth about the dataset is unknown and computes the density of clusters computed by the model. The score is computed by averaging the silhouette coefficient for each sample, computed as the difference between the average intra-cluster distance and the mean nearest-cluster distance for each sample, normalized by the maximum value. This produces a score between 1 and -1, where 1 is highly dense clusters and -1 is completely incorrect clustering. (http://www.scikit-yb.org/en/latest/api/cluster/silhouette.html)\n",
    "\n",
    "\n",
    "### Your Turn!\n",
    "Using the YellowBrick `SilhouetteVisualizer`, try visualizing models with various values of `K`.\n",
    "\n",
    "**Note**:  This visualization is quite expensive, so I recommend performing this using a sample o your original data."
   ]
  },
  {
   "cell_type": "code",
   "execution_count": 24,
   "metadata": {
    "ExecuteTime": {
     "end_time": "2020-07-30T14:51:20.839427Z",
     "start_time": "2020-07-30T14:51:17.730155Z"
    },
    "run_control": {
     "frozen": false,
     "read_only": false
    }
   },
   "outputs": [
    {
     "data": {
      "image/png": "[encoded data removed]",
      "text/plain": [
       "<Figure size 432x288 with 1 Axes>"
      ]
     },
     "metadata": {
      "needs_background": "light"
     },
     "output_type": "display_data"
    },
    {
     "data": {
      "text/plain": [
       "<matplotlib.axes._subplots.AxesSubplot at 0x7fc508b58610>"
      ]
     },
     "execution_count": 24,
     "metadata": {},
     "output_type": "execute_result"
    }
   ],
   "source": [
    "# Your code here...\n",
    "visualizer = SilhouetteVisualizer( KMeans(n_clusters=2))\n",
    "\n",
    "visualizer.fit(final_data[scaled_feature_columns].sample(10000))\n",
    "visualizer.show()"
   ]
  },
  {
   "cell_type": "markdown",
   "metadata": {
    "collapsed": true
   },
   "source": [
    "## DBSCAN\n",
    "Now that you've tried K-Means, let's try doing some clustering using DBSCAN (http://scikit-learn.org/stable/modules/generated/sklearn.cluster.DBSCAN.html).  Remember that the main tuning parameters for DBSCAN are:\n",
    "\n",
    "* **epsilon (eps)**:  The minimum distance between two samples \n",
    "* **min_samples**:  The minimum number of samples needed to form a neighborhood\n",
    "\n",
    "By default epsilon is 0.5 and the min_samples is 5. First, try DBSCAN with the default options.  If you use the `fit_predict()` function, you can save the results in a new column in your data.  \n",
    "\n",
    "How did this compare with K-Means?  Given that you actually know what the data really is, how did DBSCAN do in terms of identifing meaningful clusters?  Look at the `dsrc` column and do `value_counts()` for the various neighhborhoods.  What did you notice?\n",
    "\n",
    "Try again, but this time experiment with the values of epsilon and min_samples and see what DBSCAN comes up with. "
   ]
  },
  {
   "cell_type": "code",
   "execution_count": 25,
   "metadata": {
    "ExecuteTime": {
     "end_time": "2020-09-30T09:06:05.100887Z",
     "start_time": "2020-09-30T09:06:05.098483Z"
    },
    "run_control": {
     "frozen": false,
     "read_only": false
    }
   },
   "outputs": [],
   "source": [
    "dbscan = DBSCAN(min_samples=50)"
   ]
  },
  {
   "cell_type": "code",
   "execution_count": 26,
   "metadata": {
    "ExecuteTime": {
     "end_time": "2020-09-30T09:06:13.873373Z",
     "start_time": "2020-09-30T09:06:07.269575Z"
    },
    "run_control": {
     "frozen": false,
     "read_only": false
    }
   },
   "outputs": [],
   "source": [
    "final_data['dbs_default'] = dbscan.fit_predict(final_data[scaled_feature_columns])"
   ]
  },
  {
   "cell_type": "code",
   "execution_count": 27,
   "metadata": {
    "ExecuteTime": {
     "end_time": "2020-09-30T09:06:13.946868Z",
     "start_time": "2020-09-30T09:06:13.941567Z"
    },
    "run_control": {
     "frozen": false,
     "read_only": false
    }
   },
   "outputs": [
    {
     "data": {
      "text/plain": [
       " 1    39301\n",
       " 2     9973\n",
       " 0     2500\n",
       "-1      284\n",
       " 4      259\n",
       " 3      116\n",
       " 5       45\n",
       "Name: dbs_default, dtype: int64"
      ]
     },
     "execution_count": 27,
     "metadata": {},
     "output_type": "execute_result"
    }
   ],
   "source": [
    "final_data['dbs_default'].value_counts()"
   ]
  },
  {
   "cell_type": "code",
   "execution_count": 31,
   "metadata": {
    "ExecuteTime": {
     "end_time": "2020-09-30T09:07:04.065186Z",
     "start_time": "2020-09-30T09:07:04.052567Z"
    },
    "run_control": {
     "frozen": false,
     "read_only": false
    }
   },
   "outputs": [
    {
     "data": {
      "text/plain": [
       "cryptolocker    10000\n",
       "necurs           9990\n",
       "nivdort          9978\n",
       "alexa            9330\n",
       "gameoverdga         3\n",
       "Name: dsrc, dtype: int64"
      ]
     },
     "execution_count": 31,
     "metadata": {},
     "output_type": "execute_result"
    }
   ],
   "source": [
    "final_data[final_data['dbs_default'] == 1 ]['dsrc'].value_counts()"
   ]
  },
  {
   "cell_type": "code",
   "execution_count": 29,
   "metadata": {
    "ExecuteTime": {
     "end_time": "2020-07-30T14:51:30.585926Z",
     "start_time": "2020-07-30T14:51:30.580365Z"
    }
   },
   "outputs": [
    {
     "data": {
      "text/plain": [
       "44256          alexa\n",
       "52147          alexa\n",
       "47007          alexa\n",
       "48689          alexa\n",
       "50233          alexa\n",
       "46638          alexa\n",
       "50159          alexa\n",
       "45624          alexa\n",
       "49991          alexa\n",
       "16105    gameoverdga\n",
       "Name: dsrc, dtype: object"
      ]
     },
     "execution_count": 29,
     "metadata": {},
     "output_type": "execute_result"
    }
   ],
   "source": [
    "final_data[final_data['dbs_default'] == -1 ]['dsrc'].sample(10)"
   ]
  },
  {
   "cell_type": "code",
   "execution_count": 30,
   "metadata": {
    "ExecuteTime": {
     "end_time": "2020-07-30T14:51:30.646160Z",
     "start_time": "2020-07-30T14:51:30.638084Z"
    }
   },
   "outputs": [
    {
     "data": {
      "text/plain": [
       "41831     spokedont\n",
       "37995     deadseven\n",
       "34792      wishback\n",
       "37773    wentaugust\n",
       "34707    frontbelow\n",
       "Name: domain, dtype: object"
      ]
     },
     "execution_count": 30,
     "metadata": {},
     "output_type": "execute_result"
    }
   ],
   "source": [
    "final_data['domain'][final_data['dsrc'] == \"nivdort\"].sample(5)"
   ]
  },
  {
   "cell_type": "code",
   "execution_count": 31,
   "metadata": {
    "ExecuteTime": {
     "end_time": "2020-07-30T14:51:30.705690Z",
     "start_time": "2020-07-30T14:51:30.697949Z"
    },
    "run_control": {
     "frozen": false,
     "read_only": false
    }
   },
   "outputs": [
    {
     "data": {
      "text/plain": [
       "gameoverdga    9973\n",
       "Name: dsrc, dtype: int64"
      ]
     },
     "execution_count": 31,
     "metadata": {},
     "output_type": "execute_result"
    }
   ],
   "source": [
    "final_data[final_data['dbs_default'] == 2 ]['dsrc'].value_counts()"
   ]
  },
  {
   "cell_type": "code",
   "execution_count": 32,
   "metadata": {
    "ExecuteTime": {
     "end_time": "2020-07-30T14:51:30.769842Z",
     "start_time": "2020-07-30T14:51:30.758552Z"
    }
   },
   "outputs": [
    {
     "data": {
      "text/plain": [
       "cryptolocker    10000\n",
       "necurs           9990\n",
       "nivdort          9978\n",
       "alexa            9330\n",
       "gameoverdga         3\n",
       "Name: dsrc, dtype: int64"
      ]
     },
     "execution_count": 32,
     "metadata": {},
     "output_type": "execute_result"
    }
   ],
   "source": [
    "final_data[final_data['dbs_default'] == 1 ]['dsrc'].value_counts()"
   ]
  },
  {
   "cell_type": "code",
   "execution_count": 33,
   "metadata": {
    "ExecuteTime": {
     "end_time": "2020-07-30T14:51:30.832842Z",
     "start_time": "2020-07-30T14:51:30.823509Z"
    }
   },
   "outputs": [
    {
     "data": {
      "text/plain": [
       "7840        anmkkwdwkbih\n",
       "10693       uyrheeekbtlf\n",
       "2647       fqfymnbofsisw\n",
       "5349      sshtidiwrsvdjf\n",
       "8822        ayirbvukogpc\n",
       "10553       kknpqpwuadsp\n",
       "10283     ayoqsyliwlxxyi\n",
       "11482    yhumcgqmqfunvxm\n",
       "9614        hkjlhqmscshp\n",
       "9885       ghtvthxssuyft\n",
       "Name: domain, dtype: object"
      ]
     },
     "execution_count": 33,
     "metadata": {},
     "output_type": "execute_result"
    }
   ],
   "source": [
    "final_data[final_data['dsrc'] == \"cryptolocker\"]['domain'].sample(10)"
   ]
  },
  {
   "cell_type": "code",
   "execution_count": 34,
   "metadata": {
    "ExecuteTime": {
     "end_time": "2020-07-30T14:51:30.898689Z",
     "start_time": "2020-07-30T14:51:30.889453Z"
    }
   },
   "outputs": [
    {
     "data": {
      "text/plain": [
       "29766            qioeeyqsiktbp\n",
       "28356               ojuikitbde\n",
       "25770    hbllxhcsuqahbrgqaklvv\n",
       "32162    pogaqaholvqwiftgxlkwx\n",
       "27290         owqgjbbggfgbxxvw\n",
       "29127         eenhauhwdfaghgbb\n",
       "29003     uvuhfalslxumlnrgykge\n",
       "22728      fwrnwglywteekyuwhyp\n",
       "22930                 igambhub\n",
       "29661         sjnddpwbdkpvftma\n",
       "Name: domain, dtype: object"
      ]
     },
     "execution_count": 34,
     "metadata": {},
     "output_type": "execute_result"
    }
   ],
   "source": [
    "final_data[final_data['dsrc'] == \"necurs\"]['domain'].sample(10)"
   ]
  },
  {
   "cell_type": "code",
   "execution_count": null,
   "metadata": {},
   "outputs": [],
   "source": []
  }
 ],
 "metadata": {
  "kernelspec": {
   "display_name": "Python 3",
   "language": "python",
   "name": "python3"
  },
  "language_info": {
   "codemirror_mode": {
    "name": "ipython",
    "version": 3
   },
   "file_extension": ".py",
   "mimetype": "text/x-python",
   "name": "python",
   "nbconvert_exporter": "python",
   "pygments_lexer": "ipython3",
   "version": "3.7.9"
  },
  "toc": {
   "base_numbering": 1,
   "nav_menu": {},
   "number_sections": false,
   "sideBar": false,
   "skip_h1_title": false,
   "title_cell": "Table of Contents",
   "title_sidebar": "Contents",
   "toc_cell": false,
   "toc_position": {},
   "toc_section_display": false,
   "toc_window_display": false
  },
  "varInspector": {
   "cols": {
    "lenName": 16,
    "lenType": 16,
    "lenVar": 40
   },
   "kernels_config": {
    "python": {
     "delete_cmd_postfix": "",
     "delete_cmd_prefix": "del ",
     "library": "var_list.py",
     "varRefreshCmd": "print(var_dic_list())"
    },
    "r": {
     "delete_cmd_postfix": ") ",
     "delete_cmd_prefix": "rm(",
     "library": "var_list.r",
     "varRefreshCmd": "cat(var_dic_list()) "
    }
   },
   "types_to_exclude": [
    "module",
    "function",
    "builtin_function_or_method",
    "instance",
    "_Feature"
   ],
   "window_display": false
  }
 },
 "nbformat": 4,
 "nbformat_minor": 2
}
